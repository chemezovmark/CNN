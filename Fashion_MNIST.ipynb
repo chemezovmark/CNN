{
  "cells": [
    {
      "cell_type": "markdown",
      "id": "9c3be9d9",
      "metadata": {
        "id": "9c3be9d9"
      },
      "source": [
        "# Полносвязная нейронная сеть"
      ]
    },
    {
      "cell_type": "code",
      "execution_count": null,
      "id": "7faff4b6",
      "metadata": {
        "id": "7faff4b6"
      },
      "outputs": [],
      "source": [
        "import tensorflow as tf\n",
        "from tensorflow import keras\n",
        "from tensorflow.keras.layers import Dense, Flatten, Dropout, Conv2D, MaxPooling2D\n",
        "\n",
        "import numpy as np\n",
        "import matplotlib.pyplot as plt"
      ]
    },
    {
      "cell_type": "markdown",
      "id": "f2aa2011",
      "metadata": {
        "id": "f2aa2011"
      },
      "source": [
        "Скачивание датасета."
      ]
    },
    {
      "cell_type": "markdown",
      "source": [
        "Загрузка набора данных возвращает четыре массива NumPy: train_images и train_labels представляют собой обучающий набор — данные, которые модель использует для обучения.\n",
        "Модель тестируется на тестовом наборе , test_images и test_labels ."
      ],
      "metadata": {
        "id": "_viW_UJtA1Ej"
      },
      "id": "_viW_UJtA1Ej"
    },
    {
      "cell_type": "code",
      "execution_count": null,
      "id": "5c93df75",
      "metadata": {
        "id": "5c93df75"
      },
      "outputs": [],
      "source": [
        "(train_images, train_labels), (test_images, test_labels) = tf.keras.datasets.fashion_mnist.load_data()"
      ]
    },
    {
      "cell_type": "markdown",
      "source": [
        "Рассмотрим входные данные:"
      ],
      "metadata": {
        "id": "s2ufJ_m-_D4W"
      },
      "id": "s2ufJ_m-_D4W"
    },
    {
      "cell_type": "markdown",
      "source": [
        "60 тыс. изображений 28х28 для тренировочной выборки:"
      ],
      "metadata": {
        "id": "BNvUzQmcDFGJ"
      },
      "id": "BNvUzQmcDFGJ"
    },
    {
      "cell_type": "code",
      "source": [
        "train_images.shape"
      ],
      "metadata": {
        "colab": {
          "base_uri": "https://localhost:8080/"
        },
        "id": "ZbIJzRk7DIaM",
        "outputId": "8992527b-4ce7-446c-bf3e-a3c4962ce52b"
      },
      "id": "ZbIJzRk7DIaM",
      "execution_count": null,
      "outputs": [
        {
          "output_type": "execute_result",
          "data": {
            "text/plain": [
              "(60000, 28, 28)"
            ]
          },
          "metadata": {},
          "execution_count": 34
        }
      ]
    },
    {
      "cell_type": "markdown",
      "source": [
        "60 тыс. меток тренировочной выборки: "
      ],
      "metadata": {
        "id": "7IlQtrOQDLt6"
      },
      "id": "7IlQtrOQDLt6"
    },
    {
      "cell_type": "code",
      "source": [
        "len(train_labels)"
      ],
      "metadata": {
        "colab": {
          "base_uri": "https://localhost:8080/"
        },
        "id": "t9gt_FoBDN13",
        "outputId": "d78e0924-64ad-4974-dafa-4cfd3ee6c2b1"
      },
      "id": "t9gt_FoBDN13",
      "execution_count": null,
      "outputs": [
        {
          "output_type": "execute_result",
          "data": {
            "text/plain": [
              "60000"
            ]
          },
          "metadata": {},
          "execution_count": 35
        }
      ]
    },
    {
      "cell_type": "markdown",
      "source": [
        "Массив меток содержит числа от 0 до 9: "
      ],
      "metadata": {
        "id": "HZtszSdTDQSR"
      },
      "id": "HZtszSdTDQSR"
    },
    {
      "cell_type": "code",
      "source": [
        "train_labels"
      ],
      "metadata": {
        "colab": {
          "base_uri": "https://localhost:8080/"
        },
        "id": "IZHoOgYTDZdx",
        "outputId": "5d0097a9-de87-4e54-eca1-ab2eea5ca423"
      },
      "id": "IZHoOgYTDZdx",
      "execution_count": null,
      "outputs": [
        {
          "output_type": "execute_result",
          "data": {
            "text/plain": [
              "array([9, 0, 0, ..., 3, 0, 5], dtype=uint8)"
            ]
          },
          "metadata": {},
          "execution_count": 36
        }
      ]
    },
    {
      "cell_type": "markdown",
      "source": [
        "10 тыс. изображений 28х28 для тестовой: "
      ],
      "metadata": {
        "id": "fnSISvIfDck3"
      },
      "id": "fnSISvIfDck3"
    },
    {
      "cell_type": "code",
      "source": [
        "test_images.shape"
      ],
      "metadata": {
        "colab": {
          "base_uri": "https://localhost:8080/"
        },
        "id": "RL7kjdakDhbo",
        "outputId": "fd646861-ab90-4a43-af2f-e3bb1e4a7dde"
      },
      "id": "RL7kjdakDhbo",
      "execution_count": null,
      "outputs": [
        {
          "output_type": "execute_result",
          "data": {
            "text/plain": [
              "(10000, 28, 28)"
            ]
          },
          "metadata": {},
          "execution_count": 37
        }
      ]
    },
    {
      "cell_type": "markdown",
      "source": [
        "10 тыс. меток тестовой:"
      ],
      "metadata": {
        "id": "_qhHP4UvDmCg"
      },
      "id": "_qhHP4UvDmCg"
    },
    {
      "cell_type": "code",
      "source": [
        "len(test_labels)"
      ],
      "metadata": {
        "colab": {
          "base_uri": "https://localhost:8080/"
        },
        "id": "cgj47_N4DoPs",
        "outputId": "680d8974-8e0c-4c58-a508-c1d35c7d9540"
      },
      "id": "cgj47_N4DoPs",
      "execution_count": null,
      "outputs": [
        {
          "output_type": "execute_result",
          "data": {
            "text/plain": [
              "10000"
            ]
          },
          "metadata": {},
          "execution_count": 38
        }
      ]
    },
    {
      "cell_type": "markdown",
      "source": [
        "Названия для удобства в массиве с индексами, соответсвующими меткам:"
      ],
      "metadata": {
        "id": "Aaxng6fy95aK"
      },
      "id": "Aaxng6fy95aK"
    },
    {
      "cell_type": "code",
      "source": [
        "class_names = ['Футболка/топ', 'Брюки', 'Пуловер', 'Платье', 'Плащ',\n",
        "               'Сандалии', 'Рубашка', 'Кроссовок', 'Сумка', 'Туфли']"
      ],
      "metadata": {
        "id": "s7m923CW95tZ"
      },
      "id": "s7m923CW95tZ",
      "execution_count": null,
      "outputs": []
    },
    {
      "cell_type": "markdown",
      "id": "a6f30207",
      "metadata": {
        "id": "a6f30207"
      },
      "source": [
        "Отображение первых 25 изображений из обучающей выборки"
      ]
    },
    {
      "cell_type": "code",
      "execution_count": null,
      "id": "8aca0152",
      "metadata": {
        "colab": {
          "base_uri": "https://localhost:8080/",
          "height": 589
        },
        "id": "8aca0152",
        "outputId": "cb34a148-7506-4c0b-dfec-7b4d0c4ae67e"
      },
      "outputs": [
        {
          "output_type": "display_data",
          "data": {
            "text/plain": [
              "<Figure size 720x720 with 25 Axes>"
            ],
            "image/png": "[encoded data removed]"
          },
          "metadata": {}
        }
      ],
      "source": [
        "plt.figure(figsize=(10,10))\n",
        "for i in range(25):\n",
        "    plt.subplot(5,5,i+1)\n",
        "    plt.xticks([])\n",
        "    plt.yticks([])\n",
        "    plt.grid(False)\n",
        "    plt.imshow(train_images[i], cmap=plt.cm.binary)\n",
        "    plt.xlabel(class_names[train_labels[i]])\n",
        "plt.show()"
      ]
    },
    {
      "cell_type": "markdown",
      "id": "1fa49aff",
      "metadata": {
        "id": "1fa49aff"
      },
      "source": [
        "Стандартизация входных данных."
      ]
    },
    {
      "cell_type": "code",
      "execution_count": null,
      "id": "f37245d5",
      "metadata": {
        "id": "f37245d5"
      },
      "outputs": [],
      "source": [
        "train_images = train_images / 255\n",
        "test_images = test_images / 255"
      ]
    },
    {
      "cell_type": "markdown",
      "id": "e969e48f",
      "metadata": {
        "id": "e969e48f"
      },
      "source": [
        "Создание модели с одним скрытым слоем"
      ]
    },
    {
      "cell_type": "code",
      "execution_count": null,
      "id": "fd37673a",
      "metadata": {
        "id": "fd37673a"
      },
      "outputs": [],
      "source": [
        "model = keras.Sequential([\n",
        "    Flatten(input_shape=(28, 28, 1)),\n",
        "    Dense(128, activation='relu'),\n",
        "    Dense(10, activation='softmax')\n",
        "])"
      ]
    },
    {
      "cell_type": "markdown",
      "id": "557ccbdd",
      "metadata": {
        "id": "557ccbdd"
      },
      "source": [
        "Первый слой Flatten преобразует формат изображения из двумерного массива (28 на 28 пикселей) в одномерный (размерностью 28 * 28 = 784 пикселя). Слой извлекает строки пикселей из изображения и выстраивает их в один ряд. Этот слой не имеет параметров для обучения; он только переформатирует данные."
      ]
    },
    {
      "cell_type": "markdown",
      "id": "094d39b2",
      "metadata": {
        "id": "094d39b2"
      },
      "source": [
        "Далее нейросеть содержит два полносвязных слоя Dense. Первый Dense слой состоит из 128 нейронов и имеет функцию активации relu<span>*</span>. Второй - выходной слой - 10-узловой с функцией активации softmax<span>*</span>. Слой возвращает массив из 10 вероятностных оценок дающих в сумме 1. Каждый нейрон содержит оценку, указывающую вероятность принадлежности изображения к одному из 10 классов."
      ]
    },
    {
      "cell_type": "markdown",
      "id": "b3ed14cd",
      "metadata": {
        "id": "b3ed14cd"
      },
      "source": [
        "<span>*</span>Функция активации relu выбрана, так как она проста в вычислениях и нелинейна. softmax удобно использовать в работе с вероятностями, так как она подобно сигмоиде возвращает значения в пределах от 0 до 1, а также сумма результатов будет равна 1."
      ]
    },
    {
      "cell_type": "code",
      "execution_count": null,
      "id": "b91160bc",
      "metadata": {
        "colab": {
          "base_uri": "https://localhost:8080/"
        },
        "id": "b91160bc",
        "outputId": "fbe9e599-55c3-430f-ab35-e5d5cfb45c7b"
      },
      "outputs": [
        {
          "output_type": "stream",
          "name": "stdout",
          "text": [
            "Model: \"sequential_1\"\n",
            "_________________________________________________________________\n",
            " Layer (type)                Output Shape              Param #   \n",
            "=================================================================\n",
            " flatten_1 (Flatten)         (None, 784)               0         \n",
            "                                                                 \n",
            " dense_2 (Dense)             (None, 128)               100480    \n",
            "                                                                 \n",
            " dense_3 (Dense)             (None, 10)                1290      \n",
            "                                                                 \n",
            "=================================================================\n",
            "Total params: 101,770\n",
            "Trainable params: 101,770\n",
            "Non-trainable params: 0\n",
            "_________________________________________________________________\n",
            "None\n"
          ]
        }
      ],
      "source": [
        "print(model.summary()) "
      ]
    },
    {
      "cell_type": "markdown",
      "id": "c6d4aca9",
      "metadata": {
        "id": "c6d4aca9"
      },
      "source": [
        "Компиляция нейронной сети с оптимизатором adam, в качестве функции потерь используется категориальная кросс-энтропия, т.к. из-за свойств логарифма она лучше работает с вероятностями. Метрика accuracy равна доле правильно классифицированных изображений."
      ]
    },
    {
      "cell_type": "code",
      "execution_count": null,
      "id": "330bb8d8",
      "metadata": {
        "id": "330bb8d8"
      },
      "outputs": [],
      "source": [
        "model.compile(optimizer='adam',\n",
        "             loss='sparse_categorical_crossentropy',\n",
        "             metrics=['accuracy'])"
      ]
    },
    {
      "cell_type": "markdown",
      "id": "4ddd9a66",
      "metadata": {
        "id": "4ddd9a66"
      },
      "source": [
        "Обучение модели с 10-ю эпохами, размером пакета в 32 изображения, валидационной выборкой в 20%"
      ]
    },
    {
      "cell_type": "code",
      "execution_count": null,
      "id": "a5c71fc8",
      "metadata": {
        "scrolled": true,
        "colab": {
          "base_uri": "https://localhost:8080/"
        },
        "id": "a5c71fc8",
        "outputId": "aeb08c27-6848-4c5f-ac87-f9f8a51c3cf1"
      },
      "outputs": [
        {
          "output_type": "stream",
          "name": "stdout",
          "text": [
            "Epoch 1/10\n",
            "1500/1500 [==============================] - 4s 3ms/step - loss: 0.5202 - accuracy: 0.8177 - val_loss: 0.4555 - val_accuracy: 0.8293\n",
            "Epoch 2/10\n",
            "1500/1500 [==============================] - 4s 3ms/step - loss: 0.3927 - accuracy: 0.8585 - val_loss: 0.3754 - val_accuracy: 0.8596\n",
            "Epoch 3/10\n",
            "1500/1500 [==============================] - 4s 3ms/step - loss: 0.3490 - accuracy: 0.8728 - val_loss: 0.3815 - val_accuracy: 0.8637\n",
            "Epoch 4/10\n",
            "1500/1500 [==============================] - 4s 2ms/step - loss: 0.3235 - accuracy: 0.8797 - val_loss: 0.3384 - val_accuracy: 0.8778\n",
            "Epoch 5/10\n",
            "1500/1500 [==============================] - 4s 3ms/step - loss: 0.3030 - accuracy: 0.8879 - val_loss: 0.3339 - val_accuracy: 0.8746\n",
            "Epoch 6/10\n",
            "1500/1500 [==============================] - 4s 3ms/step - loss: 0.2884 - accuracy: 0.8941 - val_loss: 0.3504 - val_accuracy: 0.8720\n",
            "Epoch 7/10\n",
            "1500/1500 [==============================] - 4s 3ms/step - loss: 0.2761 - accuracy: 0.8985 - val_loss: 0.3288 - val_accuracy: 0.8813\n",
            "Epoch 8/10\n",
            "1500/1500 [==============================] - 4s 3ms/step - loss: 0.2654 - accuracy: 0.9008 - val_loss: 0.3197 - val_accuracy: 0.8862\n",
            "Epoch 9/10\n",
            "1500/1500 [==============================] - 4s 3ms/step - loss: 0.2528 - accuracy: 0.9061 - val_loss: 0.3244 - val_accuracy: 0.8827\n",
            "Epoch 10/10\n",
            "1500/1500 [==============================] - 4s 3ms/step - loss: 0.2419 - accuracy: 0.9091 - val_loss: 0.3185 - val_accuracy: 0.8872\n"
          ]
        },
        {
          "output_type": "execute_result",
          "data": {
            "text/plain": [
              "<keras.callbacks.History at 0x7f14165bddd0>"
            ]
          },
          "metadata": {},
          "execution_count": 68
        }
      ],
      "source": [
        "model.fit(train_images, train_labels, batch_size=32, epochs=10, validation_split=0.2)"
      ]
    },
    {
      "cell_type": "markdown",
      "source": [
        "Проверим точность на тестовых данных:"
      ],
      "metadata": {
        "id": "ncbpzn9EGQEm"
      },
      "id": "ncbpzn9EGQEm"
    },
    {
      "cell_type": "code",
      "source": [
        "model.evaluate(test_images, test_labels)"
      ],
      "metadata": {
        "colab": {
          "base_uri": "https://localhost:8080/"
        },
        "id": "VC0zvdkTGVXJ",
        "outputId": "93310e7d-6e98-4e7b-d725-7546ef3a70e5"
      },
      "id": "VC0zvdkTGVXJ",
      "execution_count": null,
      "outputs": [
        {
          "output_type": "stream",
          "name": "stdout",
          "text": [
            "313/313 [==============================] - 1s 3ms/step - loss: 0.4248 - accuracy: 0.8722\n"
          ]
        },
        {
          "output_type": "execute_result",
          "data": {
            "text/plain": [
              "[0.424822062253952, 0.8722000122070312]"
            ]
          },
          "metadata": {},
          "execution_count": 28
        }
      ]
    },
    {
      "cell_type": "markdown",
      "id": "46eae9b5",
      "metadata": {
        "id": "46eae9b5"
      },
      "source": [
        "Как видим, такая модель достигает точности <b>около 87%</b>"
      ]
    },
    {
      "cell_type": "markdown",
      "id": "2c72f018",
      "metadata": {
        "id": "2c72f018"
      },
      "source": [
        "# Сверточная нейронная сеть"
      ]
    },
    {
      "cell_type": "markdown",
      "source": [
        "Модель с сверточными слоями:"
      ],
      "metadata": {
        "id": "OqoydlTdJ4us"
      },
      "id": "OqoydlTdJ4us"
    },
    {
      "cell_type": "code",
      "source": [
        "conv_model = keras.Sequential([\n",
        "    Conv2D(10, (3,3), padding='same', activation='relu', input_shape=(28, 28, 1)),\n",
        "    MaxPooling2D((2, 2), strides=2),\n",
        "    Conv2D(20, (3,3), padding='same', activation='relu'),\n",
        "    MaxPooling2D((2, 2), strides=2),\n",
        "    Flatten(),\n",
        "    Dense(64, activation='relu'),\n",
        "    Dense(10,  activation='softmax')\n",
        "])\n",
        "conv_model.summary()"
      ],
      "metadata": {
        "colab": {
          "base_uri": "https://localhost:8080/"
        },
        "id": "b7yaTlD_LW1E",
        "outputId": "cb9d0557-e2f4-4fae-ea29-1fb4fe451438"
      },
      "id": "b7yaTlD_LW1E",
      "execution_count": null,
      "outputs": [
        {
          "output_type": "stream",
          "name": "stdout",
          "text": [
            "Model: \"sequential_8\"\n",
            "_________________________________________________________________\n",
            " Layer (type)                Output Shape              Param #   \n",
            "=================================================================\n",
            " conv2d_12 (Conv2D)          (None, 28, 28, 10)        100       \n",
            "                                                                 \n",
            " max_pooling2d_12 (MaxPoolin  (None, 14, 14, 10)       0         \n",
            " g2D)                                                            \n",
            "                                                                 \n",
            " conv2d_13 (Conv2D)          (None, 14, 14, 20)        1820      \n",
            "                                                                 \n",
            " max_pooling2d_13 (MaxPoolin  (None, 7, 7, 20)         0         \n",
            " g2D)                                                            \n",
            "                                                                 \n",
            " flatten_8 (Flatten)         (None, 980)               0         \n",
            "                                                                 \n",
            " dense_16 (Dense)            (None, 64)                62784     \n",
            "                                                                 \n",
            " dense_17 (Dense)            (None, 10)                650       \n",
            "                                                                 \n",
            "=================================================================\n",
            "Total params: 65,354\n",
            "Trainable params: 65,354\n",
            "Non-trainable params: 0\n",
            "_________________________________________________________________\n"
          ]
        }
      ]
    },
    {
      "cell_type": "markdown",
      "source": [
        "Компиляция модели сверточной сети:"
      ],
      "metadata": {
        "id": "ABhLXavIL71c"
      },
      "id": "ABhLXavIL71c"
    },
    {
      "cell_type": "code",
      "source": [
        "conv_model.compile(optimizer='adam',\n",
        "             loss='sparse_categorical_crossentropy',\n",
        "             metrics=['accuracy'])"
      ],
      "metadata": {
        "id": "vTIvX8kmLcqY"
      },
      "id": "vTIvX8kmLcqY",
      "execution_count": null,
      "outputs": []
    },
    {
      "cell_type": "markdown",
      "source": [
        "Обучение:"
      ],
      "metadata": {
        "id": "qab9Tk0sNNkd"
      },
      "id": "qab9Tk0sNNkd"
    },
    {
      "cell_type": "code",
      "execution_count": null,
      "id": "b4289875",
      "metadata": {
        "colab": {
          "base_uri": "https://localhost:8080/"
        },
        "id": "b4289875",
        "outputId": "caed2d67-a8e0-4fe7-e08f-6c7aa6d20cbd"
      },
      "outputs": [
        {
          "output_type": "stream",
          "name": "stdout",
          "text": [
            "Epoch 1/10\n",
            "1500/1500 [==============================] - 5s 3ms/step - loss: 0.5112 - accuracy: 0.8174 - val_loss: 0.4351 - val_accuracy: 0.8372\n",
            "Epoch 2/10\n",
            "1500/1500 [==============================] - 5s 3ms/step - loss: 0.3523 - accuracy: 0.8741 - val_loss: 0.3401 - val_accuracy: 0.8781\n",
            "Epoch 3/10\n",
            "1500/1500 [==============================] - 5s 3ms/step - loss: 0.3065 - accuracy: 0.8895 - val_loss: 0.2951 - val_accuracy: 0.8942\n",
            "Epoch 4/10\n",
            "1500/1500 [==============================] - 5s 3ms/step - loss: 0.2756 - accuracy: 0.9004 - val_loss: 0.2996 - val_accuracy: 0.8863\n",
            "Epoch 5/10\n",
            "1500/1500 [==============================] - 5s 3ms/step - loss: 0.2533 - accuracy: 0.9075 - val_loss: 0.2719 - val_accuracy: 0.9020\n",
            "Epoch 6/10\n",
            "1500/1500 [==============================] - 5s 3ms/step - loss: 0.2327 - accuracy: 0.9141 - val_loss: 0.2821 - val_accuracy: 0.8982\n",
            "Epoch 7/10\n",
            "1500/1500 [==============================] - 5s 3ms/step - loss: 0.2165 - accuracy: 0.9209 - val_loss: 0.2692 - val_accuracy: 0.9038\n",
            "Epoch 8/10\n",
            "1500/1500 [==============================] - 5s 3ms/step - loss: 0.2016 - accuracy: 0.9266 - val_loss: 0.2687 - val_accuracy: 0.9032\n",
            "Epoch 9/10\n",
            "1500/1500 [==============================] - 5s 3ms/step - loss: 0.1900 - accuracy: 0.9300 - val_loss: 0.2543 - val_accuracy: 0.9088\n",
            "Epoch 10/10\n",
            "1500/1500 [==============================] - 5s 3ms/step - loss: 0.1793 - accuracy: 0.9335 - val_loss: 0.2683 - val_accuracy: 0.9065\n"
          ]
        },
        {
          "output_type": "execute_result",
          "data": {
            "text/plain": [
              "<keras.callbacks.History at 0x7f1416799690>"
            ]
          },
          "metadata": {},
          "execution_count": 64
        }
      ],
      "source": [
        "conv_model.fit(train_images, train_labels, batch_size = 32, epochs = 10, validation_split=0.2)"
      ]
    },
    {
      "cell_type": "markdown",
      "source": [
        "Проверим точность на тестовых данных:"
      ],
      "metadata": {
        "id": "8Wbeq5-YRbNp"
      },
      "id": "8Wbeq5-YRbNp"
    },
    {
      "cell_type": "code",
      "execution_count": null,
      "id": "37e337a8",
      "metadata": {
        "colab": {
          "base_uri": "https://localhost:8080/"
        },
        "id": "37e337a8",
        "outputId": "9e184156-5c71-45af-cf3e-3eb5fc7927b6"
      },
      "outputs": [
        {
          "output_type": "stream",
          "name": "stdout",
          "text": [
            "313/313 [==============================] - 1s 3ms/step - loss: 0.2802 - accuracy: 0.9037\n"
          ]
        },
        {
          "output_type": "execute_result",
          "data": {
            "text/plain": [
              "[0.28016385436058044, 0.9036999940872192]"
            ]
          },
          "metadata": {},
          "execution_count": 65
        }
      ],
      "source": [
        "conv_model.evaluate(test_images,test_labels)"
      ]
    },
    {
      "cell_type": "markdown",
      "source": [
        "Модель сверточной нейронной сети c меньшим количеством параметром достигает более высокой точности – <b>около 90%</b>. \n",
        "Таким образом, на простом примере мы увидели, что CNN работают эффективнее."
      ],
      "metadata": {
        "id": "HFFbyoNRRfGh"
      },
      "id": "HFFbyoNRRfGh"
    }
  ],
  "metadata": {
    "kernelspec": {
      "display_name": "Python 3 (ipykernel)",
      "language": "python",
      "name": "python3"
    },
    "language_info": {
      "codemirror_mode": {
        "name": "ipython",
        "version": 3
      },
      "file_extension": ".py",
      "mimetype": "text/x-python",
      "name": "python",
      "nbconvert_exporter": "python",
      "pygments_lexer": "ipython3",
      "version": "3.9.7"
    },
    "colab": {
      "name": "Fashion MNIST.ipynb",
      "provenance": [],
      "collapsed_sections": []
    },
    "accelerator": "GPU"
  },
  "nbformat": 4,
  "nbformat_minor": 5
}